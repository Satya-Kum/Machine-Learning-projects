{
  "nbformat": 4,
  "nbformat_minor": 0,
  "metadata": {
    "colab": {
      "name": "Yolo_Basic.ipynb",
      "version": "0.3.2",
      "provenance": [],
      "collapsed_sections": [],
      "include_colab_link": true
    },
    "kernelspec": {
      "name": "python3",
      "display_name": "Python 3"
    },
    "accelerator": "GPU"
  },
  "cells": [
    {
      "cell_type": "markdown",
      "metadata": {
        "id": "view-in-github",
        "colab_type": "text"
      },
      "source": [
        "<a href=\"https://colab.research.google.com/github/Satya-Kum/Machine-Learning-projects/blob/master/Yolo_Basic.ipynb\" target=\"_parent\"><img src=\"https://colab.research.google.com/assets/colab-badge.svg\" alt=\"Open In Colab\"/></a>"
      ]
    },
    {
      "cell_type": "code",
      "metadata": {
        "id": "8edSiHPi2N5l",
        "colab_type": "code",
        "outputId": "dfeee86d-c826-4145-bc1d-54e14598f394",
        "colab": {
          "base_uri": "https://localhost:8080/",
          "height": 34
        }
      },
      "source": [
        "# https://keras.io/\n",
        "!pip install -q keras\n",
        "import keras\n",
        "\n",
        "import keras\n",
        "from keras.datasets import cifar10\n",
        "from keras.models import Model, Sequential\n",
        "from keras.layers import Dense, Dropout, Flatten, Input, AveragePooling2D, merge, Activation\n",
        "from keras.layers import Conv2D, MaxPooling2D, BatchNormalization\n",
        "from keras.layers import Concatenate\n",
        "from keras.optimizers import Adam\n",
        "from keras.layers.advanced_activations import LeakyReLU\n",
        "from keras.layers import Reshape, Activation, Conv2D, Input, MaxPooling2D, BatchNormalization, Flatten, Dense, Lambda\n",
        "from keras.layers.merge import concatenate\n",
        "\n",
        "# this part will prevent tensorflow to allocate all the avaliable GPU Memory\n",
        "# backend\n",
        "import tensorflow as tf\n",
        "from keras import backend as k\n",
        "\n",
        "# Don't pre-allocate memory; allocate as-needed\n",
        "config = tf.ConfigProto()\n",
        "config.gpu_options.allow_growth = True\n",
        "\n",
        "# Create a session with the above options specified.\n",
        "k.tensorflow_backend.set_session(tf.Session(config=config))\n",
        "\n",
        "# Hyperparameters\n",
        "batch_size = 128\n",
        "num_classes = 10\n",
        "epochs = 50\n",
        "l = 10\n",
        "num_filter = 20"
      ],
      "execution_count": 0,
      "outputs": [
        {
          "output_type": "stream",
          "text": [
            "Using TensorFlow backend.\n"
          ],
          "name": "stderr"
        }
      ]
    },
    {
      "cell_type": "code",
      "metadata": {
        "id": "-hkvQwOH2cCO",
        "colab_type": "code",
        "outputId": "54fc558a-bbe2-4036-b302-1614b23d6525",
        "colab": {
          "base_uri": "https://localhost:8080/",
          "height": 34
        }
      },
      "source": [
        "# Load CIFAR10 Data\n",
        "(x_train, y_train), (x_test, y_test) = cifar10.load_data()\n",
        "img_height, img_width, channel = x_train.shape[1],x_train.shape[2],x_train.shape[3]\n",
        "\n",
        "print(img_height, img_width, channel)\n",
        "\n",
        "# convert to one hot encoing \n",
        "y_train = keras.utils.to_categorical(y_train, num_classes)\n",
        "y_test = keras.utils.to_categorical(y_test, num_classes)"
      ],
      "execution_count": 0,
      "outputs": [
        {
          "output_type": "stream",
          "text": [
            "32 32 3\n"
          ],
          "name": "stdout"
        }
      ]
    },
    {
      "cell_type": "code",
      "metadata": {
        "id": "ztoDypc63gEs",
        "colab_type": "code",
        "colab": {}
      },
      "source": [
        "def space_to_depth_x2(x):\n",
        "    return tf.space_to_depth(x, block_size=2)"
      ],
      "execution_count": 0,
      "outputs": []
    },
    {
      "cell_type": "code",
      "metadata": {
        "id": "SNnGm8Tv2fR1",
        "colab_type": "code",
        "outputId": "4df85429-c519-4e0d-d56b-501afdf4b652",
        "colab": {
          "base_uri": "https://localhost:8080/",
          "height": 88
        }
      },
      "source": [
        "input = Input(shape=(img_height, img_width, channel,))\n",
        "\n",
        "# Layer 1\n",
        "layer1 = Conv2D(32, (3,3), strides=(1,1), padding='same', name='conv_1', use_bias=False)(input)\n",
        "layer1 = BatchNormalization(name='norm_1')(layer1)\n",
        "layer1 = LeakyReLU(alpha=0.1)(layer1)\n",
        "layer1 = MaxPooling2D(pool_size=(2, 2))(layer1)\n",
        "\n",
        "# Layer 2\n",
        "layer1 = Conv2D(64, (3,3), strides=(1,1), padding='same', name='conv_2', use_bias=False)(layer1)\n",
        "layer1 = BatchNormalization(name='norm_2')(layer1)\n",
        "layer1 = LeakyReLU(alpha=0.1)(layer1)\n",
        "layer1 = MaxPooling2D(pool_size=(2, 2))(layer1)\n",
        "\n",
        "# Layer 3\n",
        "layer1 = Conv2D(128, (3,3), strides=(1,1), padding='same', name='conv_3', use_bias=False)(layer1)\n",
        "layer1 = BatchNormalization(name='norm_3')(layer1)\n",
        "layer1 = LeakyReLU(alpha=0.1)(layer1)\n",
        "\n",
        "# Layer 4\n",
        "layer1 = Conv2D(64, (1,1), strides=(1,1), padding='same', name='conv_4', use_bias=False)(layer1)\n",
        "layer1 = BatchNormalization(name='norm_4')(layer1)\n",
        "layer1 = LeakyReLU(alpha=0.1)(layer1)\n",
        "\n",
        "# Layer 5\n",
        "layer1 = Conv2D(128, (3,3), strides=(1,1), padding='same', name='conv_5', use_bias=False)(layer1)\n",
        "layer1 = BatchNormalization(name='norm_5')(layer1)\n",
        "layer1 = LeakyReLU(alpha=0.1)(layer1)\n",
        "layer1 = MaxPooling2D(pool_size=(2, 2))(layer1)\n",
        "\n",
        "# Layer 6\n",
        "layer1 = Conv2D(256, (3,3), strides=(1,1), padding='same', name='conv_6', use_bias=False)(layer1)\n",
        "layer1 = BatchNormalization(name='norm_6')(layer1)\n",
        "layer1 = LeakyReLU(alpha=0.1)(layer1)\n",
        "\n",
        "# Layer 7\n",
        "layer1 = Conv2D(128, (1,1), strides=(1,1), padding='same', name='conv_7', use_bias=False)(layer1)\n",
        "layer1 = BatchNormalization(name='norm_7')(layer1)\n",
        "layer1 = LeakyReLU(alpha=0.1)(layer1)\n",
        "\n",
        "# Layer 8\n",
        "layer1 = Conv2D(256, (3,3), strides=(1,1), padding='same', name='conv_8', use_bias=False)(layer1)\n",
        "layer1 = BatchNormalization(name='norm_8')(layer1)\n",
        "layer1 = LeakyReLU(alpha=0.1)(layer1)\n",
        "layer1 = MaxPooling2D(pool_size=(2, 2))(layer1)\n",
        "\n",
        "# Layer 9\n",
        "layer1 = Conv2D(512, (3,3), strides=(1,1), padding='same', name='conv_9', use_bias=False)(layer1)\n",
        "layer1 = BatchNormalization(name='norm_9')(layer1)\n",
        "layer1 = LeakyReLU(alpha=0.1)(layer1)\n",
        "\n",
        "# Layer 10\n",
        "layer1 = Conv2D(256, (1,1), strides=(1,1), padding='same', name='conv_10', use_bias=False)(layer1)\n",
        "layer1 = BatchNormalization(name='norm_10')(layer1)\n",
        "layer1 = LeakyReLU(alpha=0.1)(layer1)\n",
        "\n",
        "# Layer 11\n",
        "layer1 = Conv2D(512, (3,3), strides=(1,1), padding='same', name='conv_11', use_bias=False)(layer1)\n",
        "layer1 = BatchNormalization(name='norm_11')(layer1)\n",
        "layer1 = LeakyReLU(alpha=0.1)(layer1)\n",
        "\n",
        "# Layer 12\n",
        "layer1 = Conv2D(256, (1,1), strides=(1,1), padding='same', name='conv_12', use_bias=False)(layer1)\n",
        "layer1 = BatchNormalization(name='norm_12')(layer1)\n",
        "layer1 = LeakyReLU(alpha=0.1)(layer1)\n",
        "\n",
        "skip_connection = layer1\n",
        "\n",
        "# Layer 13\n",
        "layer1 = Conv2D(512, (3,3), strides=(1,1), padding='same', name='conv_13', use_bias=False)(layer1)\n",
        "layer1 = BatchNormalization(name='norm_13')(layer1)\n",
        "layer1 = LeakyReLU(alpha=0.1)(layer1)\n",
        "\n",
        "\n",
        "layer1 = MaxPooling2D(pool_size=(2, 2))(layer1)\n",
        "\n",
        "# Layer 14\n",
        "layer1 = Conv2D(1024, (3,3), strides=(1,1), padding='same', name='conv_14', use_bias=False)(layer1)\n",
        "layer1 = BatchNormalization(name='norm_14')(layer1)\n",
        "layer1 = LeakyReLU(alpha=0.1)(layer1)\n",
        "\n",
        "# Layer 15\n",
        "layer1 = Conv2D(512, (1,1), strides=(1,1), padding='same', name='conv_15', use_bias=False)(layer1)\n",
        "layer1 = BatchNormalization(name='norm_15')(layer1)\n",
        "layer1 = LeakyReLU(alpha=0.1)(layer1)\n",
        "\n",
        "# Layer 16\n",
        "layer1 = Conv2D(1024, (3,3), strides=(1,1), padding='same', name='conv_16', use_bias=False)(layer1)\n",
        "layer1 = BatchNormalization(name='norm_16')(layer1)\n",
        "layer1 = LeakyReLU(alpha=0.1)(layer1)\n",
        "\n",
        "# Layer 17\n",
        "layer1 = Conv2D(512, (1,1), strides=(1,1), padding='same', name='conv_17', use_bias=False)(layer1)\n",
        "layer1 = BatchNormalization(name='norm_17')(layer1)\n",
        "layer1 = LeakyReLU(alpha=0.1)(layer1)\n",
        "\n",
        "# Layer 18\n",
        "layer1 = Conv2D(1024, (3,3), strides=(1,1), padding='same', name='conv_18', use_bias=False)(layer1)\n",
        "layer1 = BatchNormalization(name='norm_18')(layer1)\n",
        "layer1 = LeakyReLU(alpha=0.1)(layer1)\n",
        "\n",
        "# Layer 19\n",
        "layer1 = Conv2D(1024, (3,3), strides=(1,1), padding='same', name='conv_19', use_bias=False)(layer1)\n",
        "layer1 = BatchNormalization(name='norm_19')(layer1)\n",
        "layer1 = LeakyReLU(alpha=0.1)(layer1)\n",
        "\n",
        "# Layer 20\n",
        "layer1 = Conv2D(1024, (3,3), strides=(1,1), padding='same', name='conv_20', use_bias=False)(layer1)\n",
        "layer1 = BatchNormalization(name='norm_20')(layer1)\n",
        "layer1 = LeakyReLU(alpha=0.1)(layer1)\n",
        "\n",
        "# Layer 21\n",
        "skip_connection = Conv2D(64, (1,1), strides=(1,1), padding='same', name='conv_21', use_bias=False)(skip_connection)\n",
        "skip_connection = BatchNormalization(name='norm_21')(skip_connection)\n",
        "skip_connection = LeakyReLU(alpha=0.1)(skip_connection)\n",
        "skip_connection = Lambda(space_to_depth_x2)(skip_connection)\n",
        "\n",
        "layer1 = concatenate([skip_connection, layer1])\n",
        "\n",
        "# Layer 22\n",
        "layer1 = Conv2D(1024, (3,3), strides=(1,1), padding='same', name='conv_22', use_bias=False)(layer1)\n",
        "layer1 = BatchNormalization(name='norm_22')(layer1)\n",
        "layer1 = LeakyReLU(alpha=0.1)(layer1)\n",
        "\n",
        "# Layer 23\n",
        "layer1 = Flatten()(layer1)\n",
        "\n",
        "output = Dense(num_classes, activation='softmax')(layer1)\n",
        "\n"
      ],
      "execution_count": 0,
      "outputs": [
        {
          "output_type": "stream",
          "text": [
            "WARNING:tensorflow:From /usr/local/lib/python3.6/dist-packages/tensorflow/python/framework/op_def_library.py:263: colocate_with (from tensorflow.python.framework.ops) is deprecated and will be removed in a future version.\n",
            "Instructions for updating:\n",
            "Colocations handled automatically by placer.\n"
          ],
          "name": "stdout"
        }
      ]
    },
    {
      "cell_type": "code",
      "metadata": {
        "id": "Jeh0VAxy26NV",
        "colab_type": "code",
        "outputId": "1c89758a-c146-42aa-9b48-48876698b046",
        "colab": {
          "base_uri": "https://localhost:8080/",
          "height": 2737
        }
      },
      "source": [
        "model = Model(inputs=[input], outputs=[output])\n",
        "model.summary()"
      ],
      "execution_count": 0,
      "outputs": [
        {
          "output_type": "stream",
          "text": [
            "__________________________________________________________________________________________________\n",
            "Layer (type)                    Output Shape         Param #     Connected to                     \n",
            "==================================================================================================\n",
            "input_1 (InputLayer)            (None, 32, 32, 3)    0                                            \n",
            "__________________________________________________________________________________________________\n",
            "conv_1 (Conv2D)                 (None, 32, 32, 32)   864         input_1[0][0]                    \n",
            "__________________________________________________________________________________________________\n",
            "norm_1 (BatchNormalization)     (None, 32, 32, 32)   128         conv_1[0][0]                     \n",
            "__________________________________________________________________________________________________\n",
            "leaky_re_lu_1 (LeakyReLU)       (None, 32, 32, 32)   0           norm_1[0][0]                     \n",
            "__________________________________________________________________________________________________\n",
            "max_pooling2d_1 (MaxPooling2D)  (None, 16, 16, 32)   0           leaky_re_lu_1[0][0]              \n",
            "__________________________________________________________________________________________________\n",
            "conv_2 (Conv2D)                 (None, 16, 16, 64)   18432       max_pooling2d_1[0][0]            \n",
            "__________________________________________________________________________________________________\n",
            "norm_2 (BatchNormalization)     (None, 16, 16, 64)   256         conv_2[0][0]                     \n",
            "__________________________________________________________________________________________________\n",
            "leaky_re_lu_2 (LeakyReLU)       (None, 16, 16, 64)   0           norm_2[0][0]                     \n",
            "__________________________________________________________________________________________________\n",
            "max_pooling2d_2 (MaxPooling2D)  (None, 8, 8, 64)     0           leaky_re_lu_2[0][0]              \n",
            "__________________________________________________________________________________________________\n",
            "conv_3 (Conv2D)                 (None, 8, 8, 128)    73728       max_pooling2d_2[0][0]            \n",
            "__________________________________________________________________________________________________\n",
            "norm_3 (BatchNormalization)     (None, 8, 8, 128)    512         conv_3[0][0]                     \n",
            "__________________________________________________________________________________________________\n",
            "leaky_re_lu_3 (LeakyReLU)       (None, 8, 8, 128)    0           norm_3[0][0]                     \n",
            "__________________________________________________________________________________________________\n",
            "conv_4 (Conv2D)                 (None, 8, 8, 64)     8192        leaky_re_lu_3[0][0]              \n",
            "__________________________________________________________________________________________________\n",
            "norm_4 (BatchNormalization)     (None, 8, 8, 64)     256         conv_4[0][0]                     \n",
            "__________________________________________________________________________________________________\n",
            "leaky_re_lu_4 (LeakyReLU)       (None, 8, 8, 64)     0           norm_4[0][0]                     \n",
            "__________________________________________________________________________________________________\n",
            "conv_5 (Conv2D)                 (None, 8, 8, 128)    73728       leaky_re_lu_4[0][0]              \n",
            "__________________________________________________________________________________________________\n",
            "norm_5 (BatchNormalization)     (None, 8, 8, 128)    512         conv_5[0][0]                     \n",
            "__________________________________________________________________________________________________\n",
            "leaky_re_lu_5 (LeakyReLU)       (None, 8, 8, 128)    0           norm_5[0][0]                     \n",
            "__________________________________________________________________________________________________\n",
            "max_pooling2d_3 (MaxPooling2D)  (None, 4, 4, 128)    0           leaky_re_lu_5[0][0]              \n",
            "__________________________________________________________________________________________________\n",
            "conv_6 (Conv2D)                 (None, 4, 4, 256)    294912      max_pooling2d_3[0][0]            \n",
            "__________________________________________________________________________________________________\n",
            "norm_6 (BatchNormalization)     (None, 4, 4, 256)    1024        conv_6[0][0]                     \n",
            "__________________________________________________________________________________________________\n",
            "leaky_re_lu_6 (LeakyReLU)       (None, 4, 4, 256)    0           norm_6[0][0]                     \n",
            "__________________________________________________________________________________________________\n",
            "conv_7 (Conv2D)                 (None, 4, 4, 128)    32768       leaky_re_lu_6[0][0]              \n",
            "__________________________________________________________________________________________________\n",
            "norm_7 (BatchNormalization)     (None, 4, 4, 128)    512         conv_7[0][0]                     \n",
            "__________________________________________________________________________________________________\n",
            "leaky_re_lu_7 (LeakyReLU)       (None, 4, 4, 128)    0           norm_7[0][0]                     \n",
            "__________________________________________________________________________________________________\n",
            "conv_8 (Conv2D)                 (None, 4, 4, 256)    294912      leaky_re_lu_7[0][0]              \n",
            "__________________________________________________________________________________________________\n",
            "norm_8 (BatchNormalization)     (None, 4, 4, 256)    1024        conv_8[0][0]                     \n",
            "__________________________________________________________________________________________________\n",
            "leaky_re_lu_8 (LeakyReLU)       (None, 4, 4, 256)    0           norm_8[0][0]                     \n",
            "__________________________________________________________________________________________________\n",
            "max_pooling2d_4 (MaxPooling2D)  (None, 2, 2, 256)    0           leaky_re_lu_8[0][0]              \n",
            "__________________________________________________________________________________________________\n",
            "conv_9 (Conv2D)                 (None, 2, 2, 512)    1179648     max_pooling2d_4[0][0]            \n",
            "__________________________________________________________________________________________________\n",
            "norm_9 (BatchNormalization)     (None, 2, 2, 512)    2048        conv_9[0][0]                     \n",
            "__________________________________________________________________________________________________\n",
            "leaky_re_lu_9 (LeakyReLU)       (None, 2, 2, 512)    0           norm_9[0][0]                     \n",
            "__________________________________________________________________________________________________\n",
            "conv_10 (Conv2D)                (None, 2, 2, 256)    131072      leaky_re_lu_9[0][0]              \n",
            "__________________________________________________________________________________________________\n",
            "norm_10 (BatchNormalization)    (None, 2, 2, 256)    1024        conv_10[0][0]                    \n",
            "__________________________________________________________________________________________________\n",
            "leaky_re_lu_10 (LeakyReLU)      (None, 2, 2, 256)    0           norm_10[0][0]                    \n",
            "__________________________________________________________________________________________________\n",
            "conv_11 (Conv2D)                (None, 2, 2, 512)    1179648     leaky_re_lu_10[0][0]             \n",
            "__________________________________________________________________________________________________\n",
            "norm_11 (BatchNormalization)    (None, 2, 2, 512)    2048        conv_11[0][0]                    \n",
            "__________________________________________________________________________________________________\n",
            "leaky_re_lu_11 (LeakyReLU)      (None, 2, 2, 512)    0           norm_11[0][0]                    \n",
            "__________________________________________________________________________________________________\n",
            "conv_12 (Conv2D)                (None, 2, 2, 256)    131072      leaky_re_lu_11[0][0]             \n",
            "__________________________________________________________________________________________________\n",
            "norm_12 (BatchNormalization)    (None, 2, 2, 256)    1024        conv_12[0][0]                    \n",
            "__________________________________________________________________________________________________\n",
            "leaky_re_lu_12 (LeakyReLU)      (None, 2, 2, 256)    0           norm_12[0][0]                    \n",
            "__________________________________________________________________________________________________\n",
            "conv_13 (Conv2D)                (None, 2, 2, 512)    1179648     leaky_re_lu_12[0][0]             \n",
            "__________________________________________________________________________________________________\n",
            "norm_13 (BatchNormalization)    (None, 2, 2, 512)    2048        conv_13[0][0]                    \n",
            "__________________________________________________________________________________________________\n",
            "leaky_re_lu_13 (LeakyReLU)      (None, 2, 2, 512)    0           norm_13[0][0]                    \n",
            "__________________________________________________________________________________________________\n",
            "max_pooling2d_5 (MaxPooling2D)  (None, 1, 1, 512)    0           leaky_re_lu_13[0][0]             \n",
            "__________________________________________________________________________________________________\n",
            "conv_14 (Conv2D)                (None, 1, 1, 1024)   4718592     max_pooling2d_5[0][0]            \n",
            "__________________________________________________________________________________________________\n",
            "norm_14 (BatchNormalization)    (None, 1, 1, 1024)   4096        conv_14[0][0]                    \n",
            "__________________________________________________________________________________________________\n",
            "leaky_re_lu_14 (LeakyReLU)      (None, 1, 1, 1024)   0           norm_14[0][0]                    \n",
            "__________________________________________________________________________________________________\n",
            "conv_15 (Conv2D)                (None, 1, 1, 512)    524288      leaky_re_lu_14[0][0]             \n",
            "__________________________________________________________________________________________________\n",
            "norm_15 (BatchNormalization)    (None, 1, 1, 512)    2048        conv_15[0][0]                    \n",
            "__________________________________________________________________________________________________\n",
            "leaky_re_lu_15 (LeakyReLU)      (None, 1, 1, 512)    0           norm_15[0][0]                    \n",
            "__________________________________________________________________________________________________\n",
            "conv_16 (Conv2D)                (None, 1, 1, 1024)   4718592     leaky_re_lu_15[0][0]             \n",
            "__________________________________________________________________________________________________\n",
            "norm_16 (BatchNormalization)    (None, 1, 1, 1024)   4096        conv_16[0][0]                    \n",
            "__________________________________________________________________________________________________\n",
            "leaky_re_lu_16 (LeakyReLU)      (None, 1, 1, 1024)   0           norm_16[0][0]                    \n",
            "__________________________________________________________________________________________________\n",
            "conv_17 (Conv2D)                (None, 1, 1, 512)    524288      leaky_re_lu_16[0][0]             \n",
            "__________________________________________________________________________________________________\n",
            "norm_17 (BatchNormalization)    (None, 1, 1, 512)    2048        conv_17[0][0]                    \n",
            "__________________________________________________________________________________________________\n",
            "leaky_re_lu_17 (LeakyReLU)      (None, 1, 1, 512)    0           norm_17[0][0]                    \n",
            "__________________________________________________________________________________________________\n",
            "conv_18 (Conv2D)                (None, 1, 1, 1024)   4718592     leaky_re_lu_17[0][0]             \n",
            "__________________________________________________________________________________________________\n",
            "norm_18 (BatchNormalization)    (None, 1, 1, 1024)   4096        conv_18[0][0]                    \n",
            "__________________________________________________________________________________________________\n",
            "leaky_re_lu_18 (LeakyReLU)      (None, 1, 1, 1024)   0           norm_18[0][0]                    \n",
            "__________________________________________________________________________________________________\n",
            "conv_19 (Conv2D)                (None, 1, 1, 1024)   9437184     leaky_re_lu_18[0][0]             \n",
            "__________________________________________________________________________________________________\n",
            "norm_19 (BatchNormalization)    (None, 1, 1, 1024)   4096        conv_19[0][0]                    \n",
            "__________________________________________________________________________________________________\n",
            "conv_21 (Conv2D)                (None, 2, 2, 64)     16384       leaky_re_lu_12[0][0]             \n",
            "__________________________________________________________________________________________________\n",
            "leaky_re_lu_19 (LeakyReLU)      (None, 1, 1, 1024)   0           norm_19[0][0]                    \n",
            "__________________________________________________________________________________________________\n",
            "norm_21 (BatchNormalization)    (None, 2, 2, 64)     256         conv_21[0][0]                    \n",
            "__________________________________________________________________________________________________\n",
            "conv_20 (Conv2D)                (None, 1, 1, 1024)   9437184     leaky_re_lu_19[0][0]             \n",
            "__________________________________________________________________________________________________\n",
            "leaky_re_lu_21 (LeakyReLU)      (None, 2, 2, 64)     0           norm_21[0][0]                    \n",
            "__________________________________________________________________________________________________\n",
            "norm_20 (BatchNormalization)    (None, 1, 1, 1024)   4096        conv_20[0][0]                    \n",
            "__________________________________________________________________________________________________\n",
            "lambda_1 (Lambda)               (None, 1, 1, 256)    0           leaky_re_lu_21[0][0]             \n",
            "__________________________________________________________________________________________________\n",
            "leaky_re_lu_20 (LeakyReLU)      (None, 1, 1, 1024)   0           norm_20[0][0]                    \n",
            "__________________________________________________________________________________________________\n",
            "concatenate_1 (Concatenate)     (None, 1, 1, 1280)   0           lambda_1[0][0]                   \n",
            "                                                                 leaky_re_lu_20[0][0]             \n",
            "__________________________________________________________________________________________________\n",
            "conv_22 (Conv2D)                (None, 1, 1, 1024)   11796480    concatenate_1[0][0]              \n",
            "__________________________________________________________________________________________________\n",
            "norm_22 (BatchNormalization)    (None, 1, 1, 1024)   4096        conv_22[0][0]                    \n",
            "__________________________________________________________________________________________________\n",
            "leaky_re_lu_22 (LeakyReLU)      (None, 1, 1, 1024)   0           norm_22[0][0]                    \n",
            "__________________________________________________________________________________________________\n",
            "flatten_1 (Flatten)             (None, 1024)         0           leaky_re_lu_22[0][0]             \n",
            "__________________________________________________________________________________________________\n",
            "dense_1 (Dense)                 (None, 10)           10250       flatten_1[0][0]                  \n",
            "==================================================================================================\n",
            "Total params: 50,541,802\n",
            "Trainable params: 50,521,130\n",
            "Non-trainable params: 20,672\n",
            "__________________________________________________________________________________________________\n"
          ],
          "name": "stdout"
        }
      ]
    },
    {
      "cell_type": "code",
      "metadata": {
        "id": "apCwOjvZ4Kts",
        "colab_type": "code",
        "colab": {}
      },
      "source": [
        "# determine Loss function and Optimizer\n",
        "model.compile(loss='categorical_crossentropy',\n",
        "              optimizer=Adam(),\n",
        "              metrics=['accuracy'])"
      ],
      "execution_count": 0,
      "outputs": []
    },
    {
      "cell_type": "code",
      "metadata": {
        "id": "tLaFy2AO4TLl",
        "colab_type": "code",
        "outputId": "7eddeabf-2524-4fa6-a587-1d15d5c4906b",
        "colab": {
          "base_uri": "https://localhost:8080/",
          "height": 1822
        }
      },
      "source": [
        "model.fit(x_train, y_train,\n",
        "                    batch_size=batch_size,\n",
        "                    epochs=epochs,\n",
        "                    verbose=1,\n",
        "                    validation_data=(x_test, y_test))"
      ],
      "execution_count": 0,
      "outputs": [
        {
          "output_type": "stream",
          "text": [
            "WARNING:tensorflow:From /usr/local/lib/python3.6/dist-packages/tensorflow/python/ops/math_ops.py:3066: to_int32 (from tensorflow.python.ops.math_ops) is deprecated and will be removed in a future version.\n",
            "Instructions for updating:\n",
            "Use tf.cast instead.\n",
            "Train on 50000 samples, validate on 10000 samples\n",
            "Epoch 1/50\n",
            "50000/50000 [==============================] - 108s 2ms/step - loss: 1.4406 - acc: 0.4748 - val_loss: 1.8474 - val_acc: 0.4543\n",
            "Epoch 2/50\n",
            "50000/50000 [==============================] - 92s 2ms/step - loss: 0.9758 - acc: 0.6504 - val_loss: 1.2128 - val_acc: 0.5964\n",
            "Epoch 3/50\n",
            "50000/50000 [==============================] - 92s 2ms/step - loss: 0.7786 - acc: 0.7262 - val_loss: 1.4701 - val_acc: 0.5859\n",
            "Epoch 4/50\n",
            "50000/50000 [==============================] - 92s 2ms/step - loss: 0.6419 - acc: 0.7748 - val_loss: 1.5008 - val_acc: 0.5781\n",
            "Epoch 5/50\n",
            "50000/50000 [==============================] - 92s 2ms/step - loss: 0.5584 - acc: 0.8080 - val_loss: 0.8397 - val_acc: 0.7270\n",
            "Epoch 6/50\n",
            "50000/50000 [==============================] - 92s 2ms/step - loss: 0.4718 - acc: 0.8363 - val_loss: 1.2434 - val_acc: 0.6479\n",
            "Epoch 7/50\n",
            "50000/50000 [==============================] - 92s 2ms/step - loss: 0.4050 - acc: 0.8595 - val_loss: 0.9089 - val_acc: 0.7358\n",
            "Epoch 8/50\n",
            "50000/50000 [==============================] - 92s 2ms/step - loss: 0.3484 - acc: 0.8793 - val_loss: 0.9694 - val_acc: 0.7211\n",
            "Epoch 9/50\n",
            "50000/50000 [==============================] - 92s 2ms/step - loss: 0.2923 - acc: 0.8997 - val_loss: 1.1004 - val_acc: 0.6900\n",
            "Epoch 10/50\n",
            "50000/50000 [==============================] - 92s 2ms/step - loss: 0.2633 - acc: 0.9088 - val_loss: 1.0203 - val_acc: 0.7086\n",
            "Epoch 11/50\n",
            "50000/50000 [==============================] - 92s 2ms/step - loss: 0.2190 - acc: 0.9239 - val_loss: 1.0953 - val_acc: 0.7252\n",
            "Epoch 12/50\n",
            "50000/50000 [==============================] - 92s 2ms/step - loss: 0.1881 - acc: 0.9350 - val_loss: 0.9587 - val_acc: 0.7537\n",
            "Epoch 13/50\n",
            "50000/50000 [==============================] - 92s 2ms/step - loss: 0.1581 - acc: 0.9462 - val_loss: 1.7855 - val_acc: 0.7104\n",
            "Epoch 14/50\n",
            "50000/50000 [==============================] - 92s 2ms/step - loss: 0.1575 - acc: 0.9452 - val_loss: 1.0246 - val_acc: 0.7590\n",
            "Epoch 15/50\n",
            "50000/50000 [==============================] - 92s 2ms/step - loss: 0.1232 - acc: 0.9565 - val_loss: 0.9509 - val_acc: 0.7652\n",
            "Epoch 16/50\n",
            "50000/50000 [==============================] - 92s 2ms/step - loss: 0.1136 - acc: 0.9596 - val_loss: 1.2278 - val_acc: 0.7366\n",
            "Epoch 17/50\n",
            "50000/50000 [==============================] - 92s 2ms/step - loss: 0.1061 - acc: 0.9630 - val_loss: 1.2406 - val_acc: 0.7366\n",
            "Epoch 18/50\n",
            "50000/50000 [==============================] - 92s 2ms/step - loss: 0.0940 - acc: 0.9663 - val_loss: 0.9992 - val_acc: 0.7682\n",
            "Epoch 19/50\n",
            "50000/50000 [==============================] - 92s 2ms/step - loss: 0.0852 - acc: 0.9711 - val_loss: 1.2981 - val_acc: 0.7318\n",
            "Epoch 20/50\n",
            "50000/50000 [==============================] - 92s 2ms/step - loss: 0.0813 - acc: 0.9722 - val_loss: 1.0426 - val_acc: 0.7763\n",
            "Epoch 21/50\n",
            "50000/50000 [==============================] - 92s 2ms/step - loss: 0.0797 - acc: 0.9724 - val_loss: 1.1536 - val_acc: 0.7538\n",
            "Epoch 22/50\n",
            "50000/50000 [==============================] - 92s 2ms/step - loss: 0.0733 - acc: 0.9745 - val_loss: 1.1263 - val_acc: 0.7763\n",
            "Epoch 23/50\n",
            "50000/50000 [==============================] - 92s 2ms/step - loss: 0.0745 - acc: 0.9742 - val_loss: 1.2465 - val_acc: 0.7596\n",
            "Epoch 24/50\n",
            "50000/50000 [==============================] - 92s 2ms/step - loss: 0.0747 - acc: 0.9744 - val_loss: 1.1800 - val_acc: 0.7632\n",
            "Epoch 25/50\n",
            "50000/50000 [==============================] - 92s 2ms/step - loss: 0.0613 - acc: 0.9792 - val_loss: 1.1284 - val_acc: 0.7719\n",
            "Epoch 26/50\n",
            "50000/50000 [==============================] - 92s 2ms/step - loss: 0.0608 - acc: 0.9785 - val_loss: 1.1149 - val_acc: 0.7732\n",
            "Epoch 27/50\n",
            "50000/50000 [==============================] - 92s 2ms/step - loss: 0.0554 - acc: 0.9810 - val_loss: 1.1320 - val_acc: 0.7783\n",
            "Epoch 28/50\n",
            "50000/50000 [==============================] - 92s 2ms/step - loss: 0.0530 - acc: 0.9817 - val_loss: 1.2892 - val_acc: 0.7528\n",
            "Epoch 29/50\n",
            "50000/50000 [==============================] - 92s 2ms/step - loss: 0.0529 - acc: 0.9812 - val_loss: 1.6695 - val_acc: 0.7027\n",
            "Epoch 30/50\n",
            "50000/50000 [==============================] - 92s 2ms/step - loss: 0.0505 - acc: 0.9821 - val_loss: 1.1179 - val_acc: 0.7748\n",
            "Epoch 31/50\n",
            "50000/50000 [==============================] - 92s 2ms/step - loss: 0.0804 - acc: 0.9744 - val_loss: 1.0067 - val_acc: 0.7798\n",
            "Epoch 32/50\n",
            "50000/50000 [==============================] - 92s 2ms/step - loss: 0.0434 - acc: 0.9853 - val_loss: 1.1156 - val_acc: 0.7781\n",
            "Epoch 33/50\n",
            "50000/50000 [==============================] - 92s 2ms/step - loss: 0.0458 - acc: 0.9842 - val_loss: 1.4324 - val_acc: 0.7376\n",
            "Epoch 34/50\n",
            "50000/50000 [==============================] - 92s 2ms/step - loss: 0.0431 - acc: 0.9852 - val_loss: 1.2538 - val_acc: 0.7595\n",
            "Epoch 35/50\n",
            "50000/50000 [==============================] - 92s 2ms/step - loss: 0.0378 - acc: 0.9872 - val_loss: 1.2500 - val_acc: 0.7706\n",
            "Epoch 36/50\n",
            "50000/50000 [==============================] - 92s 2ms/step - loss: 0.0426 - acc: 0.9855 - val_loss: 1.1430 - val_acc: 0.7568\n",
            "Epoch 37/50\n",
            "50000/50000 [==============================] - 92s 2ms/step - loss: 0.0452 - acc: 0.9843 - val_loss: 1.0830 - val_acc: 0.7904\n",
            "Epoch 38/50\n",
            "50000/50000 [==============================] - 92s 2ms/step - loss: 0.0402 - acc: 0.9860 - val_loss: 1.1152 - val_acc: 0.7743\n",
            "Epoch 39/50\n",
            "50000/50000 [==============================] - 92s 2ms/step - loss: 0.0348 - acc: 0.9884 - val_loss: 1.4163 - val_acc: 0.7481\n",
            "Epoch 40/50\n",
            "50000/50000 [==============================] - 92s 2ms/step - loss: 0.0386 - acc: 0.9877 - val_loss: 1.1997 - val_acc: 0.7700\n",
            "Epoch 41/50\n",
            "50000/50000 [==============================] - 92s 2ms/step - loss: 0.0312 - acc: 0.9893 - val_loss: 1.2538 - val_acc: 0.7648\n",
            "Epoch 42/50\n",
            "50000/50000 [==============================] - 92s 2ms/step - loss: 0.0355 - acc: 0.9879 - val_loss: 1.2381 - val_acc: 0.7759\n",
            "Epoch 43/50\n",
            "50000/50000 [==============================] - 92s 2ms/step - loss: 0.0347 - acc: 0.9882 - val_loss: 1.1551 - val_acc: 0.7847\n",
            "Epoch 44/50\n",
            "50000/50000 [==============================] - 92s 2ms/step - loss: 0.0322 - acc: 0.9891 - val_loss: 1.3175 - val_acc: 0.7616\n",
            "Epoch 45/50\n",
            "50000/50000 [==============================] - 92s 2ms/step - loss: 0.0326 - acc: 0.9888 - val_loss: 1.1108 - val_acc: 0.7948\n",
            "Epoch 46/50\n",
            "50000/50000 [==============================] - 92s 2ms/step - loss: 0.0337 - acc: 0.9887 - val_loss: 1.4628 - val_acc: 0.7133\n",
            "Epoch 47/50\n",
            "50000/50000 [==============================] - 92s 2ms/step - loss: 0.0394 - acc: 0.9864 - val_loss: 1.0839 - val_acc: 0.7927\n",
            "Epoch 48/50\n",
            "50000/50000 [==============================] - 92s 2ms/step - loss: 0.0261 - acc: 0.9908 - val_loss: 1.4288 - val_acc: 0.7591\n",
            "Epoch 49/50\n",
            "50000/50000 [==============================] - 92s 2ms/step - loss: 0.0254 - acc: 0.9916 - val_loss: 1.1553 - val_acc: 0.7902\n",
            "Epoch 50/50\n",
            "50000/50000 [==============================] - 92s 2ms/step - loss: 0.0247 - acc: 0.9922 - val_loss: 1.2413 - val_acc: 0.7824\n"
          ],
          "name": "stdout"
        },
        {
          "output_type": "execute_result",
          "data": {
            "text/plain": [
              "<keras.callbacks.History at 0x7f16a21784a8>"
            ]
          },
          "metadata": {
            "tags": []
          },
          "execution_count": 8
        }
      ]
    },
    {
      "cell_type": "code",
      "metadata": {
        "id": "pTfZIGrf4Uyd",
        "colab_type": "code",
        "outputId": "571c10b1-3f27-4e03-8d19-15c008367ea3",
        "colab": {
          "base_uri": "https://localhost:8080/",
          "height": 85
        }
      },
      "source": [
        "# Test the model\n",
        "score = model.evaluate(x_test, y_test, verbose=1)\n",
        "print('Test loss:', score[0])\n",
        "print('Test accuracy:', score[1])\n",
        "# Save the trained weights in to .h5 format\n",
        "model.save_weights(\"Yolo_Basic_model2.h5\")\n",
        "print(\"Saved the model to disk\")"
      ],
      "execution_count": 0,
      "outputs": [
        {
          "output_type": "stream",
          "text": [
            "10000/10000 [==============================] - 10s 976us/step\n",
            "Test loss: 1.2412945451259614\n",
            "Test accuracy: 0.7824\n",
            "Saved the model to disk\n"
          ],
          "name": "stdout"
        }
      ]
    },
    {
      "cell_type": "code",
      "metadata": {
        "id": "Jiyb9TlVGsZs",
        "colab_type": "code",
        "outputId": "c7521f27-d97c-424b-b271-c468dc25bd4c",
        "colab": {
          "resources": {
            "http://localhost:18894/content/Yolo_Basic_model.h5": {
              "data": "CjwhRE9DVFlQRSBodG1sPgo8aHRtbCBsYW5nPWVuPgogIDxtZXRhIGNoYXJzZXQ9dXRmLTg+CiAgPG1ldGEgbmFtZT12aWV3cG9ydCBjb250ZW50PSJpbml0aWFsLXNjYWxlPTEsIG1pbmltdW0tc2NhbGU9MSwgd2lkdGg9ZGV2aWNlLXdpZHRoIj4KICA8dGl0bGU+RXJyb3IgNTA0IChHYXRld2F5IFRpbWVvdXQpISExPC90aXRsZT4KICA8c3R5bGU+CiAgICAqe21hcmdpbjowO3BhZGRpbmc6MH1odG1sLGNvZGV7Zm9udDoxNXB4LzIycHggYXJpYWwsc2Fucy1zZXJpZn1odG1se2JhY2tncm91bmQ6I2ZmZjtjb2xvcjojMjIyO3BhZGRpbmc6MTVweH1ib2R5e21hcmdpbjo3JSBhdXRvIDA7bWF4LXdpZHRoOjM5MHB4O21pbi1oZWlnaHQ6MTgwcHg7cGFkZGluZzozMHB4IDAgMTVweH0qID4gYm9keXtiYWNrZ3JvdW5kOnVybCgvL3d3dy5nb29nbGUuY29tL2ltYWdlcy9lcnJvcnMvcm9ib3QucG5nKSAxMDAlIDVweCBuby1yZXBlYXQ7cGFkZGluZy1yaWdodDoyMDVweH1we21hcmdpbjoxMXB4IDAgMjJweDtvdmVyZmxvdzpoaWRkZW59aW5ze2NvbG9yOiM3Nzc7dGV4dC1kZWNvcmF0aW9uOm5vbmV9YSBpbWd7Ym9yZGVyOjB9QG1lZGlhIHNjcmVlbiBhbmQgKG1heC13aWR0aDo3NzJweCl7Ym9keXtiYWNrZ3JvdW5kOm5vbmU7bWFyZ2luLXRvcDowO21heC13aWR0aDpub25lO3BhZGRpbmctcmlnaHQ6MH19I2xvZ297YmFja2dyb3VuZDp1cmwoLy93d3cuZ29vZ2xlLmNvbS9pbWFnZXMvbG9nb3MvZXJyb3JwYWdlL2Vycm9yX2xvZ28tMTUweDU0LnBuZykgbm8tcmVwZWF0O21hcmdpbi1sZWZ0Oi01cHh9QG1lZGlhIG9ubHkgc2NyZWVuIGFuZCAobWluLXJlc29sdXRpb246MTkyZHBpKXsjbG9nb3tiYWNrZ3JvdW5kOnVybCgvL3d3dy5nb29nbGUuY29tL2ltYWdlcy9sb2dvcy9lcnJvcnBhZ2UvZXJyb3JfbG9nby0xNTB4NTQtMngucG5nKSBuby1yZXBlYXQgMCUgMCUvMTAwJSAxMDAlOy1tb3otYm9yZGVyLWltYWdlOnVybCgvL3d3dy5nb29nbGUuY29tL2ltYWdlcy9sb2dvcy9lcnJvcnBhZ2UvZXJyb3JfbG9nby0xNTB4NTQtMngucG5nKSAwfX1AbWVkaWEgb25seSBzY3JlZW4gYW5kICgtd2Via2l0LW1pbi1kZXZpY2UtcGl4ZWwtcmF0aW86Mil7I2xvZ297YmFja2dyb3VuZDp1cmwoLy93d3cuZ29vZ2xlLmNvbS9pbWFnZXMvbG9nb3MvZXJyb3JwYWdlL2Vycm9yX2xvZ28tMTUweDU0LTJ4LnBuZykgbm8tcmVwZWF0Oy13ZWJraXQtYmFja2dyb3VuZC1zaXplOjEwMCUgMTAwJX19I2xvZ297ZGlzcGxheTppbmxpbmUtYmxvY2s7aGVpZ2h0OjU0cHg7d2lkdGg6MTUwcHh9CiAgPC9zdHlsZT4KICA8YSBocmVmPS8vd3d3Lmdvb2dsZS5jb20vPjxzcGFuIGlkPWxvZ28gYXJpYS1sYWJlbD1Hb29nbGU+PC9zcGFuPjwvYT4KICA8cD48Yj41MDQuPC9iPiA8aW5zPlRoYXTigJlzIGFuIGVycm9yLjwvaW5zPgogIDxwPiAgPGlucz5UaGF04oCZcyBhbGwgd2Uga25vdy48L2lucz4K",
              "ok": false,
              "headers": [
                [
                  "content-length",
                  "1455"
                ],
                [
                  "content-type",
                  "text/html; charset=utf-8"
                ]
              ],
              "status": 504,
              "status_text": ""
            }
          },
          "base_uri": "https://localhost:8080/",
          "height": 979
        }
      },
      "source": [
        "model.save_weights(\"Yolo_Basic_model2.h5\")\n",
        "print(\"Saved the model to disk\")\n",
        "from google.colab import files\n",
        "\n",
        "files.download('Yolo_Basic_model.h5')"
      ],
      "execution_count": 0,
      "outputs": [
        {
          "output_type": "stream",
          "text": [
            "Saved the model to disk\n"
          ],
          "name": "stdout"
        },
        {
          "output_type": "stream",
          "text": [
            "----------------------------------------\n",
            "Exception happened during processing of request from ('::ffff:127.0.0.1', 44526, 0, 0)\n",
            "Traceback (most recent call last):\n",
            "  File \"/usr/lib/python3.6/socketserver.py\", line 317, in _handle_request_noblock\n",
            "    self.process_request(request, client_address)\n",
            "  File \"/usr/lib/python3.6/socketserver.py\", line 348, in process_request\n",
            "    self.finish_request(request, client_address)\n",
            "  File \"/usr/lib/python3.6/socketserver.py\", line 361, in finish_request\n",
            "    self.RequestHandlerClass(request, client_address, self)\n",
            "  File \"/usr/lib/python3.6/socketserver.py\", line 696, in __init__\n",
            "    self.handle()\n",
            "  File \"/usr/lib/python3.6/http/server.py\", line 418, in handle\n",
            "    self.handle_one_request()\n",
            "  File \"/usr/lib/python3.6/http/server.py\", line 406, in handle_one_request\n",
            "    method()\n",
            "  File \"/usr/lib/python3.6/http/server.py\", line 639, in do_GET\n",
            "    self.copyfile(f, self.wfile)\n",
            "  File \"/usr/lib/python3.6/http/server.py\", line 800, in copyfile\n",
            "    shutil.copyfileobj(source, outputfile)\n",
            "  File \"/usr/lib/python3.6/shutil.py\", line 82, in copyfileobj\n",
            "    fdst.write(buf)\n",
            "  File \"/usr/lib/python3.6/socketserver.py\", line 775, in write\n",
            "    self._sock.sendall(b)\n",
            "ConnectionResetError: [Errno 104] Connection reset by peer\n",
            "----------------------------------------\n"
          ],
          "name": "stderr"
        },
        {
          "output_type": "error",
          "ename": "MessageError",
          "evalue": "ignored",
          "traceback": [
            "\u001b[0;31m---------------------------------------------------------------------------\u001b[0m",
            "\u001b[0;31mMessageError\u001b[0m                              Traceback (most recent call last)",
            "\u001b[0;32m<ipython-input-13-7fd61af6c08d>\u001b[0m in \u001b[0;36m<module>\u001b[0;34m()\u001b[0m\n\u001b[1;32m      3\u001b[0m \u001b[0;32mfrom\u001b[0m \u001b[0mgoogle\u001b[0m\u001b[0;34m.\u001b[0m\u001b[0mcolab\u001b[0m \u001b[0;32mimport\u001b[0m \u001b[0mfiles\u001b[0m\u001b[0;34m\u001b[0m\u001b[0m\n\u001b[1;32m      4\u001b[0m \u001b[0;34m\u001b[0m\u001b[0m\n\u001b[0;32m----> 5\u001b[0;31m \u001b[0mfiles\u001b[0m\u001b[0;34m.\u001b[0m\u001b[0mdownload\u001b[0m\u001b[0;34m(\u001b[0m\u001b[0;34m'Yolo_Basic_model.h5'\u001b[0m\u001b[0;34m)\u001b[0m\u001b[0;34m\u001b[0m\u001b[0m\n\u001b[0m",
            "\u001b[0;32m/usr/local/lib/python3.6/dist-packages/google/colab/files.py\u001b[0m in \u001b[0;36mdownload\u001b[0;34m(filename)\u001b[0m\n\u001b[1;32m    135\u001b[0m       \u001b[0;34m'port'\u001b[0m\u001b[0;34m:\u001b[0m \u001b[0mport\u001b[0m\u001b[0;34m,\u001b[0m\u001b[0;34m\u001b[0m\u001b[0m\n\u001b[1;32m    136\u001b[0m       \u001b[0;34m'path'\u001b[0m\u001b[0;34m:\u001b[0m \u001b[0mos\u001b[0m\u001b[0;34m.\u001b[0m\u001b[0mpath\u001b[0m\u001b[0;34m.\u001b[0m\u001b[0mabspath\u001b[0m\u001b[0;34m(\u001b[0m\u001b[0mfilename\u001b[0m\u001b[0;34m)\u001b[0m\u001b[0;34m,\u001b[0m\u001b[0;34m\u001b[0m\u001b[0m\n\u001b[0;32m--> 137\u001b[0;31m       \u001b[0;34m'name'\u001b[0m\u001b[0;34m:\u001b[0m \u001b[0mos\u001b[0m\u001b[0;34m.\u001b[0m\u001b[0mpath\u001b[0m\u001b[0;34m.\u001b[0m\u001b[0mbasename\u001b[0m\u001b[0;34m(\u001b[0m\u001b[0mfilename\u001b[0m\u001b[0;34m)\u001b[0m\u001b[0;34m,\u001b[0m\u001b[0;34m\u001b[0m\u001b[0m\n\u001b[0m\u001b[1;32m    138\u001b[0m   })\n",
            "\u001b[0;32m/usr/local/lib/python3.6/dist-packages/google/colab/output/_js.py\u001b[0m in \u001b[0;36meval_js\u001b[0;34m(script, ignore_result)\u001b[0m\n\u001b[1;32m     37\u001b[0m   \u001b[0;32mif\u001b[0m \u001b[0mignore_result\u001b[0m\u001b[0;34m:\u001b[0m\u001b[0;34m\u001b[0m\u001b[0m\n\u001b[1;32m     38\u001b[0m     \u001b[0;32mreturn\u001b[0m\u001b[0;34m\u001b[0m\u001b[0m\n\u001b[0;32m---> 39\u001b[0;31m   \u001b[0;32mreturn\u001b[0m \u001b[0m_message\u001b[0m\u001b[0;34m.\u001b[0m\u001b[0mread_reply_from_input\u001b[0m\u001b[0;34m(\u001b[0m\u001b[0mrequest_id\u001b[0m\u001b[0;34m)\u001b[0m\u001b[0;34m\u001b[0m\u001b[0m\n\u001b[0m\u001b[1;32m     40\u001b[0m \u001b[0;34m\u001b[0m\u001b[0m\n\u001b[1;32m     41\u001b[0m \u001b[0;34m\u001b[0m\u001b[0m\n",
            "\u001b[0;32m/usr/local/lib/python3.6/dist-packages/google/colab/_message.py\u001b[0m in \u001b[0;36mread_reply_from_input\u001b[0;34m(message_id, timeout_sec)\u001b[0m\n\u001b[1;32m     84\u001b[0m         reply.get('colab_msg_id') == message_id):\n\u001b[1;32m     85\u001b[0m       \u001b[0;32mif\u001b[0m \u001b[0;34m'error'\u001b[0m \u001b[0;32min\u001b[0m \u001b[0mreply\u001b[0m\u001b[0;34m:\u001b[0m\u001b[0;34m\u001b[0m\u001b[0m\n\u001b[0;32m---> 86\u001b[0;31m         \u001b[0;32mraise\u001b[0m \u001b[0mMessageError\u001b[0m\u001b[0;34m(\u001b[0m\u001b[0mreply\u001b[0m\u001b[0;34m[\u001b[0m\u001b[0;34m'error'\u001b[0m\u001b[0;34m]\u001b[0m\u001b[0;34m)\u001b[0m\u001b[0;34m\u001b[0m\u001b[0m\n\u001b[0m\u001b[1;32m     87\u001b[0m       \u001b[0;32mreturn\u001b[0m \u001b[0mreply\u001b[0m\u001b[0;34m.\u001b[0m\u001b[0mget\u001b[0m\u001b[0;34m(\u001b[0m\u001b[0;34m'data'\u001b[0m\u001b[0;34m,\u001b[0m \u001b[0;32mNone\u001b[0m\u001b[0;34m)\u001b[0m\u001b[0;34m\u001b[0m\u001b[0m\n\u001b[1;32m     88\u001b[0m \u001b[0;34m\u001b[0m\u001b[0m\n",
            "\u001b[0;31mMessageError\u001b[0m: Error: Failed to download: "
          ]
        }
      ]
    },
    {
      "cell_type": "code",
      "metadata": {
        "id": "g9A3pesKbUJ8",
        "colab_type": "code",
        "colab": {}
      },
      "source": [
        ""
      ],
      "execution_count": 0,
      "outputs": []
    }
  ]
}